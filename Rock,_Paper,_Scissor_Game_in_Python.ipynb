{
  "nbformat": 4,
  "nbformat_minor": 0,
  "metadata": {
    "colab": {
      "provenance": []
    },
    "kernelspec": {
      "name": "python3",
      "display_name": "Python 3"
    },
    "language_info": {
      "name": "python"
    }
  },
  "cells": [
    {
      "cell_type": "code",
      "execution_count": 1,
      "metadata": {
        "colab": {
          "base_uri": "https://localhost:8080/"
        },
        "id": "DN0s37XJYXRw",
        "outputId": "ca8a52e0-6377-4f03-868c-e40fd2aef304"
      },
      "outputs": [
        {
          "output_type": "stream",
          "name": "stdout",
          "text": [
            "Requirement already satisfied: pygame in /usr/local/lib/python3.10/dist-packages (2.6.0)\n"
          ]
        }
      ],
      "source": [
        "pip install pygame"
      ]
    },
    {
      "cell_type": "code",
      "source": [
        "import random\n",
        "\n",
        "def play_game():\n",
        "    # Available choices\n",
        "    choices = [\"rock\", \"paper\", \"scissors\"]\n",
        "\n",
        "    while True:\n",
        "        # Computer randomly selects an option\n",
        "        computer_choice = random.choice(choices)\n",
        "\n",
        "        # User input\n",
        "        user_choice = input(\"Enter rock, paper, or scissors (or 'quit' to stop playing): \").lower()\n",
        "\n",
        "        # Check if the user wants to quit\n",
        "        if user_choice == 'quit':\n",
        "            print(\"Thanks for playing! Goodbye!\")\n",
        "            break\n",
        "\n",
        "        # Check if the user input is valid\n",
        "        if user_choice not in choices:\n",
        "            print(\"Invalid choice! Please try again.\")\n",
        "            continue\n",
        "\n",
        "        # Display choices\n",
        "        print(f\"\\nYou chose: {user_choice}\")\n",
        "        print(f\"Computer chose: {computer_choice}\")\n",
        "\n",
        "        # Determine the winner\n",
        "        if user_choice == computer_choice:\n",
        "            print(\"It's a tie!\")\n",
        "        elif (user_choice == \"rock\" and computer_choice == \"scissors\") or \\\n",
        "             (user_choice == \"paper\" and computer_choice == \"rock\") or \\\n",
        "             (user_choice == \"scissors\" and computer_choice == \"paper\"):\n",
        "            print(\"You win!\")\n",
        "        else:\n",
        "            print(\"You lose!\")\n",
        "\n",
        "        # Spacing between rounds\n",
        "        print(\"\\n\" + \"-\" * 30 + \"\\n\")\n",
        "\n",
        "# Play the game\n",
        "if __name__ == \"__main__\":\n",
        "    play_game()\n"
      ],
      "metadata": {
        "colab": {
          "base_uri": "https://localhost:8080/"
        },
        "id": "mJMEM17KmT9h",
        "outputId": "4ff7688a-f647-4e8f-e36e-3ec7009c66d3"
      },
      "execution_count": null,
      "outputs": [
        {
          "output_type": "stream",
          "name": "stdout",
          "text": [
            "Enter rock, paper, or scissors (or 'quit' to stop playing): rock\n",
            "\n",
            "You chose: rock\n",
            "Computer chose: rock\n",
            "It's a tie!\n",
            "\n",
            "------------------------------\n",
            "\n",
            "Enter rock, paper, or scissors (or 'quit' to stop playing): paper\n",
            "\n",
            "You chose: paper\n",
            "Computer chose: scissors\n",
            "You lose!\n",
            "\n",
            "------------------------------\n",
            "\n"
          ]
        }
      ]
    },
    {
      "cell_type": "code",
      "source": [],
      "metadata": {
        "id": "zvgihlU1zIas"
      },
      "execution_count": null,
      "outputs": []
    }
  ]
}